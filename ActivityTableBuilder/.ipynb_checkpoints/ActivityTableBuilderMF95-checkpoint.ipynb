{
 "cells": [
  {
   "cell_type": "markdown",
   "id": "7b968928",
   "metadata": {},
   "source": [
    "# Activity Table Builder"
   ]
  },
  {
   "cell_type": "markdown",
   "id": "fc5ebfc7",
   "metadata": {},
   "source": [
    "## Importing Libraries"
   ]
  },
  {
   "cell_type": "code",
   "execution_count": 1,
   "id": "69076511",
   "metadata": {},
   "outputs": [],
   "source": [
    "import pandas as pd\n",
    "import datetime as dt\n",
    "import dateutil as du\n",
    "import random\n",
    "import numpy as np"
   ]
  },
  {
   "cell_type": "markdown",
   "id": "599f9139",
   "metadata": {},
   "source": [
    "## Creating Dataframe from Activities"
   ]
  },
  {
   "cell_type": "code",
   "execution_count": 2,
   "id": "4f4dc0e7",
   "metadata": {},
   "outputs": [],
   "source": [
    "def readFile():\n",
    "    # Change the delimiter based on your system\n",
    "    array = np.loadtxt(\"./ActivityTableBuilder/activity_list.csv\", delimiter = \";\", dtype = str)\n",
    "    return array"
   ]
  },
  {
   "cell_type": "markdown",
   "id": "a7b18e71",
   "metadata": {},
   "source": [
    "## Building an Process\n",
    "Based on a NumPy dataload."
   ]
  },
  {
   "cell_type": "code",
   "execution_count": 3,
   "id": "2452109d",
   "metadata": {},
   "outputs": [],
   "source": [
    "def buildProcessArray(caseID):\n",
    "    act_details = readFile()\n",
    "    \n",
    "    # Initial Randomization of Starting Time\n",
    "    # Assuming activities starting after Jan 1, 2020, 8 am are being considered\n",
    "    timestamp = dt.datetime(2020, 1, 1, hour = 8, minute = 0, second = 0, microsecond = 0)\n",
    "    tdelta = dt.timedelta(days = round(365*random.random()), hours = round(24*random.random()), minutes = round(60*random.random()))\n",
    "    timestamp = timestamp + tdelta\n",
    "    \n",
    "    process_table = []\n",
    "    i = 1\n",
    "    j = 4\n",
    "    next_activity_probability = 0\n",
    "    current_probability = 0\n",
    "    \n",
    "    \n",
    "    while True:\n",
    "        j = 4\n",
    "        current_probability = 0\n",
    "        next_activity_probability = 0\n",
    "        \n",
    "        while next_activity_probability == 0:\n",
    "            next_activity_probability = round(random.random()*100)\n",
    "        \n",
    "        timestamp = timestamp + tdelta\n",
    "        timestamp = MF95(timestamp)\n",
    "        \n",
    "        process_table.append({\"caseID\": caseID, \"Activity Name\": act_details[i][0], \"Timestamp\": timestamp})\n",
    "        \n",
    "        if (int(act_details[i][3])==100):\n",
    "            break\n",
    "        \n",
    "        while (current_probability < next_activity_probability):\n",
    "            current_probability += int(act_details[i][j])\n",
    "            j += 1\n",
    "        \n",
    "        tdelta = dt.timedelta(hours = int(act_details[i][1]) + ((int(act_details[i][2]) - int(act_details[i][1]))* random.random()))\n",
    "        i = j-4\n",
    "    \n",
    "    case_process = pd.DataFrame(process_table)\n",
    "    return case_process"
   ]
  },
  {
   "cell_type": "markdown",
   "id": "a3becc78",
   "metadata": {},
   "source": [
    "# MF95\n",
    "The function is intended to spill any overflow beyond 9 AM - 5 PM and Monday to Friday into the next working day within the correct working hours."
   ]
  },
  {
   "cell_type": "code",
   "execution_count": 38,
   "id": "36151ccc",
   "metadata": {},
   "outputs": [
    {
     "name": "stdout",
     "output_type": "stream",
     "text": [
      "here\n",
      "here\n",
      "2023-08-14 10:10:00\n"
     ]
    }
   ],
   "source": [
    "def MF95(timestamp):\n",
    "    date = timestamp\n",
    "    while (timestamp.hour < 9 or timestamp.hour > 16):\n",
    "        if (timestamp.hour > 16):\n",
    "            timestamp = timestamp + dt.timedelta(hours = 16)\n",
    "        elif (timestamp.hour < 9):\n",
    "            print('here')\n",
    "            date = date.replace(hour = 17, minute = 0, second = 0, microsecond = 0)\n",
    "            tdelta = timestamp - date + dt.timedelta(days = 1)\n",
    "            timestamp = timestamp + tdelta\n",
    "    \n",
    "    # Checking for Saturday or Sunday. If the day is Satuday or Sunday, the clock is moved forward by 48 hours\n",
    "    if timestamp.strftime('%a') == 'Sat' or timestamp.strftime('%a') == 'Sun':\n",
    "        timestamp = timestamp + dt.timedelta(days = 2)\n",
    "    return timestamp"
   ]
  },
  {
   "cell_type": "markdown",
   "id": "ffb60ab2",
   "metadata": {},
   "source": [
    "## Generating Multiple Cases"
   ]
  },
  {
   "cell_type": "code",
   "execution_count": 5,
   "id": "346cf961",
   "metadata": {},
   "outputs": [
    {
     "name": "stdout",
     "output_type": "stream",
     "text": [
      "Enter number of cases: 2000\n"
     ]
    }
   ],
   "source": [
    "def buildCases():\n",
    "    i = int(input(\"Enter number of cases: \"))\n",
    "    columns = [\"caseID\",\"Activity Name\", \"Timestamp\"]\n",
    "    activity_table = pd.DataFrame(columns = columns)\n",
    "    x = 1\n",
    "    while x<(i+1):\n",
    "        activity_table = pd.concat([activity_table, buildProcessArray(x)], ignore_index = True)\n",
    "        x += 1\n",
    "    activity_table.to_csv(\"output.csv\")\n",
    "buildCases()"
   ]
  }
 ],
 "metadata": {
  "kernelspec": {
   "display_name": "Python 3 (ipykernel)",
   "language": "python",
   "name": "python3"
  },
  "language_info": {
   "codemirror_mode": {
    "name": "ipython",
    "version": 3
   },
   "file_extension": ".py",
   "mimetype": "text/x-python",
   "name": "python",
   "nbconvert_exporter": "python",
   "pygments_lexer": "ipython3",
   "version": "3.9.13"
  }
 },
 "nbformat": 4,
 "nbformat_minor": 5
}
