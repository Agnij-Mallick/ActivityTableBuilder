{
 "cells": [
  {
   "cell_type": "markdown",
   "id": "e3a7a046",
   "metadata": {},
   "source": [
    "# Building an Activity Table"
   ]
  },
  {
   "cell_type": "markdown",
   "id": "7a4577f6",
   "metadata": {},
   "source": [
    "## Preparing the Workbench\n",
    "\n",
    "Make sure to read the README.md file before proceeding.\n",
    "\n",
    "Install the following packages as dependencies:\n",
    "1. ```pandas```\n",
    "2. ```dateutil```\n",
    "3. ```datetime```\n",
    "4. ```random```\n",
    "5. ```numpy```\n",
    "\n",
    "## How to come up with a Sample Dataset?\n",
    "\n",
    "Ask yourself the following questions:\n",
    "\n",
    "1. What is ideal process path(s)?\n",
    "2. Which deviations from the ideal path are possible?\n",
    "3. How the activity table will relate to the case table(s)?\n",
    "\n",
    "*Case Tables*: Since case tables are case specific, it is difficult to create a universal tool to cover all use cases. It is left up to the user to build these case tables.\n",
    "\n",
    "## Preparing the Activity Table List\n",
    "\n",
    "Before running this tool, go the the folder *ActivityTableBuilder* and open the file *activity_list.csv* and fill it up as instructed in the README.md file."
   ]
  },
  {
   "cell_type": "markdown",
   "id": "3a834898",
   "metadata": {},
   "source": [
    "## Running the Tool\n",
    "\n",
    "If you have prepared your tool, move the cursor to the code block and run the tool by pressing **Ctrl**+**Return**.\n",
    "\n",
    "Make sure you run the correct version of the data synthesizer! The first one assumes there is an operation which runs all day, everyday without any break.\n",
    "\n",
    "The second one assumes there is a working hours of 9 AM - 5 PM from Monday to Friday. **Local holidays are not considered.**"
   ]
  },
  {
   "cell_type": "code",
   "execution_count": null,
   "id": "13f18aef",
   "metadata": {},
   "outputs": [],
   "source": [
    "%run ./ActivityTableBuilder/ActivityTableBuilder.ipynb"
   ]
  },
  {
   "cell_type": "code",
   "execution_count": null,
   "id": "26a5dbe7",
   "metadata": {},
   "outputs": [],
   "source": [
    "%run ./ActivityTableBuilder/ActivityTableBuilderMF95.ipynb"
   ]
  }
 ],
 "metadata": {
  "kernelspec": {
   "display_name": "Python 3 (ipykernel)",
   "language": "python",
   "name": "python3"
  },
  "language_info": {
   "codemirror_mode": {
    "name": "ipython",
    "version": 3
   },
   "file_extension": ".py",
   "mimetype": "text/x-python",
   "name": "python",
   "nbconvert_exporter": "python",
   "pygments_lexer": "ipython3",
   "version": "3.9.13"
  }
 },
 "nbformat": 4,
 "nbformat_minor": 5
}
